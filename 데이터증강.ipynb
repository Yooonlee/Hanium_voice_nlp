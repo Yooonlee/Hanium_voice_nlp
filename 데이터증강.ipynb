{
  "nbformat": 4,
  "nbformat_minor": 0,
  "metadata": {
    "colab": {
      "provenance": [],
      "machine_shape": "hm",
      "gpuType": "V100"
    },
    "kernelspec": {
      "name": "python3",
      "display_name": "Python 3"
    },
    "language_info": {
      "name": "python"
    },
    "accelerator": "GPU"
  },
  "cells": [
    {
      "cell_type": "markdown",
      "source": [
        "### 레이블 개수 확인"
      ],
      "metadata": {
        "id": "YtTaDITmWN4d"
      }
    },
    {
      "cell_type": "code",
      "execution_count": 181,
      "metadata": {
        "colab": {
          "base_uri": "https://localhost:8080/"
        },
        "id": "gx8jGs-jP3E7",
        "outputId": "d26f6eff-1f75-4a30-e724-74f653589b89"
      },
      "outputs": [
        {
          "output_type": "stream",
          "name": "stdout",
          "text": [
            "데이터프레임 크기: (1, 21579)\n"
          ]
        }
      ],
      "source": [
        "# 레이블 부족 문제 다루기\n",
        "# 예시 깃허브 이슈 테이커 만들기\n",
        "# 데이터 준비하기\n",
        "import pandas as pd\n",
        "\n",
        "dataset_url = \"/content/drive/MyDrive/Colab Notebooks/PhishingDataConcat.json\"\n",
        "df_issues = pd.read_json(dataset_url, lines = True)\n",
        "print(f\"데이터프레임 크기: {df_issues.shape}\")"
      ]
    },
    {
      "cell_type": "markdown",
      "source": [
        "- 원소가 객체 형식이라 데이터프레임으로 변경"
      ],
      "metadata": {
        "id": "tgVq-fwvhytC"
      }
    },
    {
      "cell_type": "code",
      "source": [
        "df_issues = df_issues.T"
      ],
      "metadata": {
        "id": "XHvw9kzNq2o3"
      },
      "execution_count": 182,
      "outputs": []
    },
    {
      "cell_type": "code",
      "source": [
        "df_issues"
      ],
      "metadata": {
        "colab": {
          "base_uri": "https://localhost:8080/",
          "height": 424
        },
        "id": "ZQYOlZZ-wl63",
        "outputId": "d794c465-960e-48e4-f0ca-4249d11a2de1"
      },
      "execution_count": 183,
      "outputs": [
        {
          "output_type": "execute_result",
          "data": {
            "text/plain": [
              "                                                       0\n",
              "0      {'text': ' 사기범: 저희 햇살론 특성상 네네네 채무가 3개월 이상 이제 쓰...\n",
              "1      {'text': ' 피해자: 여보세요 사기범: 예 여보세요 고객님 맞으시죠? 네 전...\n",
              "2      {'text': ' 사기범: 말씀 알아보시고 연락 주시면 안 되실까요? 제가 다시 ...\n",
              "3      {'text': ' 사기범: 여보세요 사기범: 네네 피해자: 이민혁 씨 좀 부탁드릴...\n",
              "4      {'text': ' 사기범: 고객님께 송금을 하기 전에 저희는 여신금융협회에 다 신...\n",
              "...                                                  ...\n",
              "21574  {'text': ' 토론자: &company-name46&가 외환카드 노동자를 해고...\n",
              "21575  {'text': ' 사회자: 네 그러니까 이게 영화가 저는 현실감이 많이 포함 됐다...\n",
              "21576  {'text': ' 토론자: 이런걸 보면 몇 천년간 이어진 양반 천민의 구분이 쉽게...\n",
              "21577  {'text': ' 토론자: 그리고 천구백오십팔 년을 기점으로 미국의 무상원조가 적...\n",
              "21578  {'text': ' 토론자: 근데 되게 비슷비슷한 부분이 많은 것 같아요. 토론자:...\n",
              "\n",
              "[21579 rows x 1 columns]"
            ],
            "text/html": [
              "\n",
              "\n",
              "  <div id=\"df-21f95523-14ad-421e-a873-52853820e195\">\n",
              "    <div class=\"colab-df-container\">\n",
              "      <div>\n",
              "<style scoped>\n",
              "    .dataframe tbody tr th:only-of-type {\n",
              "        vertical-align: middle;\n",
              "    }\n",
              "\n",
              "    .dataframe tbody tr th {\n",
              "        vertical-align: top;\n",
              "    }\n",
              "\n",
              "    .dataframe thead th {\n",
              "        text-align: right;\n",
              "    }\n",
              "</style>\n",
              "<table border=\"1\" class=\"dataframe\">\n",
              "  <thead>\n",
              "    <tr style=\"text-align: right;\">\n",
              "      <th></th>\n",
              "      <th>0</th>\n",
              "    </tr>\n",
              "  </thead>\n",
              "  <tbody>\n",
              "    <tr>\n",
              "      <th>0</th>\n",
              "      <td>{'text': ' 사기범: 저희 햇살론 특성상 네네네 채무가 3개월 이상 이제 쓰...</td>\n",
              "    </tr>\n",
              "    <tr>\n",
              "      <th>1</th>\n",
              "      <td>{'text': ' 피해자: 여보세요 사기범: 예 여보세요 고객님 맞으시죠? 네 전...</td>\n",
              "    </tr>\n",
              "    <tr>\n",
              "      <th>2</th>\n",
              "      <td>{'text': ' 사기범: 말씀 알아보시고 연락 주시면 안 되실까요? 제가 다시 ...</td>\n",
              "    </tr>\n",
              "    <tr>\n",
              "      <th>3</th>\n",
              "      <td>{'text': ' 사기범: 여보세요 사기범: 네네 피해자: 이민혁 씨 좀 부탁드릴...</td>\n",
              "    </tr>\n",
              "    <tr>\n",
              "      <th>4</th>\n",
              "      <td>{'text': ' 사기범: 고객님께 송금을 하기 전에 저희는 여신금융협회에 다 신...</td>\n",
              "    </tr>\n",
              "    <tr>\n",
              "      <th>...</th>\n",
              "      <td>...</td>\n",
              "    </tr>\n",
              "    <tr>\n",
              "      <th>21574</th>\n",
              "      <td>{'text': ' 토론자: &amp;company-name46&amp;가 외환카드 노동자를 해고...</td>\n",
              "    </tr>\n",
              "    <tr>\n",
              "      <th>21575</th>\n",
              "      <td>{'text': ' 사회자: 네 그러니까 이게 영화가 저는 현실감이 많이 포함 됐다...</td>\n",
              "    </tr>\n",
              "    <tr>\n",
              "      <th>21576</th>\n",
              "      <td>{'text': ' 토론자: 이런걸 보면 몇 천년간 이어진 양반 천민의 구분이 쉽게...</td>\n",
              "    </tr>\n",
              "    <tr>\n",
              "      <th>21577</th>\n",
              "      <td>{'text': ' 토론자: 그리고 천구백오십팔 년을 기점으로 미국의 무상원조가 적...</td>\n",
              "    </tr>\n",
              "    <tr>\n",
              "      <th>21578</th>\n",
              "      <td>{'text': ' 토론자: 근데 되게 비슷비슷한 부분이 많은 것 같아요. 토론자:...</td>\n",
              "    </tr>\n",
              "  </tbody>\n",
              "</table>\n",
              "<p>21579 rows × 1 columns</p>\n",
              "</div>\n",
              "      <button class=\"colab-df-convert\" onclick=\"convertToInteractive('df-21f95523-14ad-421e-a873-52853820e195')\"\n",
              "              title=\"Convert this dataframe to an interactive table.\"\n",
              "              style=\"display:none;\">\n",
              "\n",
              "  <svg xmlns=\"http://www.w3.org/2000/svg\" height=\"24px\"viewBox=\"0 0 24 24\"\n",
              "       width=\"24px\">\n",
              "    <path d=\"M0 0h24v24H0V0z\" fill=\"none\"/>\n",
              "    <path d=\"M18.56 5.44l.94 2.06.94-2.06 2.06-.94-2.06-.94-.94-2.06-.94 2.06-2.06.94zm-11 1L8.5 8.5l.94-2.06 2.06-.94-2.06-.94L8.5 2.5l-.94 2.06-2.06.94zm10 10l.94 2.06.94-2.06 2.06-.94-2.06-.94-.94-2.06-.94 2.06-2.06.94z\"/><path d=\"M17.41 7.96l-1.37-1.37c-.4-.4-.92-.59-1.43-.59-.52 0-1.04.2-1.43.59L10.3 9.45l-7.72 7.72c-.78.78-.78 2.05 0 2.83L4 21.41c.39.39.9.59 1.41.59.51 0 1.02-.2 1.41-.59l7.78-7.78 2.81-2.81c.8-.78.8-2.07 0-2.86zM5.41 20L4 18.59l7.72-7.72 1.47 1.35L5.41 20z\"/>\n",
              "  </svg>\n",
              "      </button>\n",
              "\n",
              "\n",
              "\n",
              "    <div id=\"df-ce3fecde-d29b-4739-bdec-8a421f52be1e\">\n",
              "      <button class=\"colab-df-quickchart\" onclick=\"quickchart('df-ce3fecde-d29b-4739-bdec-8a421f52be1e')\"\n",
              "              title=\"Suggest charts.\"\n",
              "              style=\"display:none;\">\n",
              "\n",
              "<svg xmlns=\"http://www.w3.org/2000/svg\" height=\"24px\"viewBox=\"0 0 24 24\"\n",
              "     width=\"24px\">\n",
              "    <g>\n",
              "        <path d=\"M19 3H5c-1.1 0-2 .9-2 2v14c0 1.1.9 2 2 2h14c1.1 0 2-.9 2-2V5c0-1.1-.9-2-2-2zM9 17H7v-7h2v7zm4 0h-2V7h2v10zm4 0h-2v-4h2v4z\"/>\n",
              "    </g>\n",
              "</svg>\n",
              "      </button>\n",
              "    </div>\n",
              "\n",
              "<style>\n",
              "  .colab-df-quickchart {\n",
              "    background-color: #E8F0FE;\n",
              "    border: none;\n",
              "    border-radius: 50%;\n",
              "    cursor: pointer;\n",
              "    display: none;\n",
              "    fill: #1967D2;\n",
              "    height: 32px;\n",
              "    padding: 0 0 0 0;\n",
              "    width: 32px;\n",
              "  }\n",
              "\n",
              "  .colab-df-quickchart:hover {\n",
              "    background-color: #E2EBFA;\n",
              "    box-shadow: 0px 1px 2px rgba(60, 64, 67, 0.3), 0px 1px 3px 1px rgba(60, 64, 67, 0.15);\n",
              "    fill: #174EA6;\n",
              "  }\n",
              "\n",
              "  [theme=dark] .colab-df-quickchart {\n",
              "    background-color: #3B4455;\n",
              "    fill: #D2E3FC;\n",
              "  }\n",
              "\n",
              "  [theme=dark] .colab-df-quickchart:hover {\n",
              "    background-color: #434B5C;\n",
              "    box-shadow: 0px 1px 3px 1px rgba(0, 0, 0, 0.15);\n",
              "    filter: drop-shadow(0px 1px 2px rgba(0, 0, 0, 0.3));\n",
              "    fill: #FFFFFF;\n",
              "  }\n",
              "</style>\n",
              "\n",
              "    <script>\n",
              "      async function quickchart(key) {\n",
              "        const containerElement = document.querySelector('#' + key);\n",
              "        const charts = await google.colab.kernel.invokeFunction(\n",
              "            'suggestCharts', [key], {});\n",
              "      }\n",
              "    </script>\n",
              "\n",
              "      <script>\n",
              "\n",
              "function displayQuickchartButton(domScope) {\n",
              "  let quickchartButtonEl =\n",
              "    domScope.querySelector('#df-ce3fecde-d29b-4739-bdec-8a421f52be1e button.colab-df-quickchart');\n",
              "  quickchartButtonEl.style.display =\n",
              "    google.colab.kernel.accessAllowed ? 'block' : 'none';\n",
              "}\n",
              "\n",
              "        displayQuickchartButton(document);\n",
              "      </script>\n",
              "      <style>\n",
              "    .colab-df-container {\n",
              "      display:flex;\n",
              "      flex-wrap:wrap;\n",
              "      gap: 12px;\n",
              "    }\n",
              "\n",
              "    .colab-df-convert {\n",
              "      background-color: #E8F0FE;\n",
              "      border: none;\n",
              "      border-radius: 50%;\n",
              "      cursor: pointer;\n",
              "      display: none;\n",
              "      fill: #1967D2;\n",
              "      height: 32px;\n",
              "      padding: 0 0 0 0;\n",
              "      width: 32px;\n",
              "    }\n",
              "\n",
              "    .colab-df-convert:hover {\n",
              "      background-color: #E2EBFA;\n",
              "      box-shadow: 0px 1px 2px rgba(60, 64, 67, 0.3), 0px 1px 3px 1px rgba(60, 64, 67, 0.15);\n",
              "      fill: #174EA6;\n",
              "    }\n",
              "\n",
              "    [theme=dark] .colab-df-convert {\n",
              "      background-color: #3B4455;\n",
              "      fill: #D2E3FC;\n",
              "    }\n",
              "\n",
              "    [theme=dark] .colab-df-convert:hover {\n",
              "      background-color: #434B5C;\n",
              "      box-shadow: 0px 1px 3px 1px rgba(0, 0, 0, 0.15);\n",
              "      filter: drop-shadow(0px 1px 2px rgba(0, 0, 0, 0.3));\n",
              "      fill: #FFFFFF;\n",
              "    }\n",
              "  </style>\n",
              "\n",
              "      <script>\n",
              "        const buttonEl =\n",
              "          document.querySelector('#df-21f95523-14ad-421e-a873-52853820e195 button.colab-df-convert');\n",
              "        buttonEl.style.display =\n",
              "          google.colab.kernel.accessAllowed ? 'block' : 'none';\n",
              "\n",
              "        async function convertToInteractive(key) {\n",
              "          const element = document.querySelector('#df-21f95523-14ad-421e-a873-52853820e195');\n",
              "          const dataTable =\n",
              "            await google.colab.kernel.invokeFunction('convertToInteractive',\n",
              "                                                     [key], {});\n",
              "          if (!dataTable) return;\n",
              "\n",
              "          const docLinkHtml = 'Like what you see? Visit the ' +\n",
              "            '<a target=\"_blank\" href=https://colab.research.google.com/notebooks/data_table.ipynb>data table notebook</a>'\n",
              "            + ' to learn more about interactive tables.';\n",
              "          element.innerHTML = '';\n",
              "          dataTable['output_type'] = 'display_data';\n",
              "          await google.colab.output.renderOutput(dataTable, element);\n",
              "          const docLink = document.createElement('div');\n",
              "          docLink.innerHTML = docLinkHtml;\n",
              "          element.appendChild(docLink);\n",
              "        }\n",
              "      </script>\n",
              "    </div>\n",
              "  </div>\n"
            ]
          },
          "metadata": {},
          "execution_count": 183
        }
      ]
    },
    {
      "cell_type": "code",
      "source": [
        "for i in range(len(df_issues)):\n",
        "  if i == 0:\n",
        "    df = pd.DataFrame({key: pd.Series(val) for key, val in df_issues[0][i].items()})\n",
        "    continue\n",
        "  df2 = pd.DataFrame({key: pd.Series(val) for key, val in df_issues[0][i].items()})\n",
        "  df = pd.concat([df, df2], axis=0)\n",
        "print(type(df))\n",
        "# print(df)"
      ],
      "metadata": {
        "colab": {
          "base_uri": "https://localhost:8080/"
        },
        "id": "GXClCBSjWysb",
        "outputId": "f357fc14-5122-4e5d-dd86-340f6929ecc9"
      },
      "execution_count": 184,
      "outputs": [
        {
          "output_type": "stream",
          "name": "stdout",
          "text": [
            "<class 'pandas.core.frame.DataFrame'>\n"
          ]
        }
      ]
    },
    {
      "cell_type": "code",
      "source": [
        "df"
      ],
      "metadata": {
        "colab": {
          "base_uri": "https://localhost:8080/",
          "height": 424
        },
        "id": "5mtzfaIRzkfk",
        "outputId": "797852af-55f0-4766-ce2b-c62fc6d53349"
      },
      "execution_count": 185,
      "outputs": [
        {
          "output_type": "execute_result",
          "data": {
            "text/plain": [
              "                                                 text   index  label\n",
              "0    사기범: 저희 햇살론 특성상 네네네 채무가 3개월 이상 이제 쓰셔야 햇살론 진행이...       2      1\n",
              "0    피해자: 여보세요 사기범: 예 여보세요 고객님 맞으시죠? 네 전화드렸던 김우석 대...       3      1\n",
              "0    사기범: 말씀 알아보시고 연락 주시면 안 되실까요? 제가 다시 붙잡고 있을 수는 ...       4      1\n",
              "0    사기범: 여보세요 사기범: 네네 피해자: 이민혁 씨 좀 부탁드릴게요. 사기범: 네...       5      1\n",
              "0    사기범: 고객님께 송금을 하기 전에 저희는 여신금융협회에 다 신고를 해요.현대캐피...       6      1\n",
              "..                                                ...     ...    ...\n",
              "0    토론자: &company-name46&가 외환카드 노동자를 해고를 할 때 누구를 ...  257239      0\n",
              "0    사회자: 네 그러니까 이게 영화가 저는 현실감이 많이 포함 됐다고 생각해요 그런 ...  257256      0\n",
              "0    토론자: 이런걸 보면 몇 천년간 이어진 양반 천민의 구분이 쉽게 없어지지 않았죠....  257274      0\n",
              "0    토론자: 그리고 천구백오십팔 년을 기점으로 미국의 무상원조가 적어지며 무상원조는 ...  257293      0\n",
              "0    토론자: 근데 되게 비슷비슷한 부분이 많은 것 같아요. 토론자: 그쪽 그런 약간 ...  257313      0\n",
              "\n",
              "[21579 rows x 3 columns]"
            ],
            "text/html": [
              "\n",
              "\n",
              "  <div id=\"df-c55220b7-708b-4224-aa03-0c2f0ab275a7\">\n",
              "    <div class=\"colab-df-container\">\n",
              "      <div>\n",
              "<style scoped>\n",
              "    .dataframe tbody tr th:only-of-type {\n",
              "        vertical-align: middle;\n",
              "    }\n",
              "\n",
              "    .dataframe tbody tr th {\n",
              "        vertical-align: top;\n",
              "    }\n",
              "\n",
              "    .dataframe thead th {\n",
              "        text-align: right;\n",
              "    }\n",
              "</style>\n",
              "<table border=\"1\" class=\"dataframe\">\n",
              "  <thead>\n",
              "    <tr style=\"text-align: right;\">\n",
              "      <th></th>\n",
              "      <th>text</th>\n",
              "      <th>index</th>\n",
              "      <th>label</th>\n",
              "    </tr>\n",
              "  </thead>\n",
              "  <tbody>\n",
              "    <tr>\n",
              "      <th>0</th>\n",
              "      <td>사기범: 저희 햇살론 특성상 네네네 채무가 3개월 이상 이제 쓰셔야 햇살론 진행이...</td>\n",
              "      <td>2</td>\n",
              "      <td>1</td>\n",
              "    </tr>\n",
              "    <tr>\n",
              "      <th>0</th>\n",
              "      <td>피해자: 여보세요 사기범: 예 여보세요 고객님 맞으시죠? 네 전화드렸던 김우석 대...</td>\n",
              "      <td>3</td>\n",
              "      <td>1</td>\n",
              "    </tr>\n",
              "    <tr>\n",
              "      <th>0</th>\n",
              "      <td>사기범: 말씀 알아보시고 연락 주시면 안 되실까요? 제가 다시 붙잡고 있을 수는 ...</td>\n",
              "      <td>4</td>\n",
              "      <td>1</td>\n",
              "    </tr>\n",
              "    <tr>\n",
              "      <th>0</th>\n",
              "      <td>사기범: 여보세요 사기범: 네네 피해자: 이민혁 씨 좀 부탁드릴게요. 사기범: 네...</td>\n",
              "      <td>5</td>\n",
              "      <td>1</td>\n",
              "    </tr>\n",
              "    <tr>\n",
              "      <th>0</th>\n",
              "      <td>사기범: 고객님께 송금을 하기 전에 저희는 여신금융협회에 다 신고를 해요.현대캐피...</td>\n",
              "      <td>6</td>\n",
              "      <td>1</td>\n",
              "    </tr>\n",
              "    <tr>\n",
              "      <th>...</th>\n",
              "      <td>...</td>\n",
              "      <td>...</td>\n",
              "      <td>...</td>\n",
              "    </tr>\n",
              "    <tr>\n",
              "      <th>0</th>\n",
              "      <td>토론자: &amp;company-name46&amp;가 외환카드 노동자를 해고를 할 때 누구를 ...</td>\n",
              "      <td>257239</td>\n",
              "      <td>0</td>\n",
              "    </tr>\n",
              "    <tr>\n",
              "      <th>0</th>\n",
              "      <td>사회자: 네 그러니까 이게 영화가 저는 현실감이 많이 포함 됐다고 생각해요 그런 ...</td>\n",
              "      <td>257256</td>\n",
              "      <td>0</td>\n",
              "    </tr>\n",
              "    <tr>\n",
              "      <th>0</th>\n",
              "      <td>토론자: 이런걸 보면 몇 천년간 이어진 양반 천민의 구분이 쉽게 없어지지 않았죠....</td>\n",
              "      <td>257274</td>\n",
              "      <td>0</td>\n",
              "    </tr>\n",
              "    <tr>\n",
              "      <th>0</th>\n",
              "      <td>토론자: 그리고 천구백오십팔 년을 기점으로 미국의 무상원조가 적어지며 무상원조는 ...</td>\n",
              "      <td>257293</td>\n",
              "      <td>0</td>\n",
              "    </tr>\n",
              "    <tr>\n",
              "      <th>0</th>\n",
              "      <td>토론자: 근데 되게 비슷비슷한 부분이 많은 것 같아요. 토론자: 그쪽 그런 약간 ...</td>\n",
              "      <td>257313</td>\n",
              "      <td>0</td>\n",
              "    </tr>\n",
              "  </tbody>\n",
              "</table>\n",
              "<p>21579 rows × 3 columns</p>\n",
              "</div>\n",
              "      <button class=\"colab-df-convert\" onclick=\"convertToInteractive('df-c55220b7-708b-4224-aa03-0c2f0ab275a7')\"\n",
              "              title=\"Convert this dataframe to an interactive table.\"\n",
              "              style=\"display:none;\">\n",
              "\n",
              "  <svg xmlns=\"http://www.w3.org/2000/svg\" height=\"24px\"viewBox=\"0 0 24 24\"\n",
              "       width=\"24px\">\n",
              "    <path d=\"M0 0h24v24H0V0z\" fill=\"none\"/>\n",
              "    <path d=\"M18.56 5.44l.94 2.06.94-2.06 2.06-.94-2.06-.94-.94-2.06-.94 2.06-2.06.94zm-11 1L8.5 8.5l.94-2.06 2.06-.94-2.06-.94L8.5 2.5l-.94 2.06-2.06.94zm10 10l.94 2.06.94-2.06 2.06-.94-2.06-.94-.94-2.06-.94 2.06-2.06.94z\"/><path d=\"M17.41 7.96l-1.37-1.37c-.4-.4-.92-.59-1.43-.59-.52 0-1.04.2-1.43.59L10.3 9.45l-7.72 7.72c-.78.78-.78 2.05 0 2.83L4 21.41c.39.39.9.59 1.41.59.51 0 1.02-.2 1.41-.59l7.78-7.78 2.81-2.81c.8-.78.8-2.07 0-2.86zM5.41 20L4 18.59l7.72-7.72 1.47 1.35L5.41 20z\"/>\n",
              "  </svg>\n",
              "      </button>\n",
              "\n",
              "\n",
              "\n",
              "    <div id=\"df-c514b5ca-5eab-434e-aee7-3da39f10fe65\">\n",
              "      <button class=\"colab-df-quickchart\" onclick=\"quickchart('df-c514b5ca-5eab-434e-aee7-3da39f10fe65')\"\n",
              "              title=\"Suggest charts.\"\n",
              "              style=\"display:none;\">\n",
              "\n",
              "<svg xmlns=\"http://www.w3.org/2000/svg\" height=\"24px\"viewBox=\"0 0 24 24\"\n",
              "     width=\"24px\">\n",
              "    <g>\n",
              "        <path d=\"M19 3H5c-1.1 0-2 .9-2 2v14c0 1.1.9 2 2 2h14c1.1 0 2-.9 2-2V5c0-1.1-.9-2-2-2zM9 17H7v-7h2v7zm4 0h-2V7h2v10zm4 0h-2v-4h2v4z\"/>\n",
              "    </g>\n",
              "</svg>\n",
              "      </button>\n",
              "    </div>\n",
              "\n",
              "<style>\n",
              "  .colab-df-quickchart {\n",
              "    background-color: #E8F0FE;\n",
              "    border: none;\n",
              "    border-radius: 50%;\n",
              "    cursor: pointer;\n",
              "    display: none;\n",
              "    fill: #1967D2;\n",
              "    height: 32px;\n",
              "    padding: 0 0 0 0;\n",
              "    width: 32px;\n",
              "  }\n",
              "\n",
              "  .colab-df-quickchart:hover {\n",
              "    background-color: #E2EBFA;\n",
              "    box-shadow: 0px 1px 2px rgba(60, 64, 67, 0.3), 0px 1px 3px 1px rgba(60, 64, 67, 0.15);\n",
              "    fill: #174EA6;\n",
              "  }\n",
              "\n",
              "  [theme=dark] .colab-df-quickchart {\n",
              "    background-color: #3B4455;\n",
              "    fill: #D2E3FC;\n",
              "  }\n",
              "\n",
              "  [theme=dark] .colab-df-quickchart:hover {\n",
              "    background-color: #434B5C;\n",
              "    box-shadow: 0px 1px 3px 1px rgba(0, 0, 0, 0.15);\n",
              "    filter: drop-shadow(0px 1px 2px rgba(0, 0, 0, 0.3));\n",
              "    fill: #FFFFFF;\n",
              "  }\n",
              "</style>\n",
              "\n",
              "    <script>\n",
              "      async function quickchart(key) {\n",
              "        const containerElement = document.querySelector('#' + key);\n",
              "        const charts = await google.colab.kernel.invokeFunction(\n",
              "            'suggestCharts', [key], {});\n",
              "      }\n",
              "    </script>\n",
              "\n",
              "      <script>\n",
              "\n",
              "function displayQuickchartButton(domScope) {\n",
              "  let quickchartButtonEl =\n",
              "    domScope.querySelector('#df-c514b5ca-5eab-434e-aee7-3da39f10fe65 button.colab-df-quickchart');\n",
              "  quickchartButtonEl.style.display =\n",
              "    google.colab.kernel.accessAllowed ? 'block' : 'none';\n",
              "}\n",
              "\n",
              "        displayQuickchartButton(document);\n",
              "      </script>\n",
              "      <style>\n",
              "    .colab-df-container {\n",
              "      display:flex;\n",
              "      flex-wrap:wrap;\n",
              "      gap: 12px;\n",
              "    }\n",
              "\n",
              "    .colab-df-convert {\n",
              "      background-color: #E8F0FE;\n",
              "      border: none;\n",
              "      border-radius: 50%;\n",
              "      cursor: pointer;\n",
              "      display: none;\n",
              "      fill: #1967D2;\n",
              "      height: 32px;\n",
              "      padding: 0 0 0 0;\n",
              "      width: 32px;\n",
              "    }\n",
              "\n",
              "    .colab-df-convert:hover {\n",
              "      background-color: #E2EBFA;\n",
              "      box-shadow: 0px 1px 2px rgba(60, 64, 67, 0.3), 0px 1px 3px 1px rgba(60, 64, 67, 0.15);\n",
              "      fill: #174EA6;\n",
              "    }\n",
              "\n",
              "    [theme=dark] .colab-df-convert {\n",
              "      background-color: #3B4455;\n",
              "      fill: #D2E3FC;\n",
              "    }\n",
              "\n",
              "    [theme=dark] .colab-df-convert:hover {\n",
              "      background-color: #434B5C;\n",
              "      box-shadow: 0px 1px 3px 1px rgba(0, 0, 0, 0.15);\n",
              "      filter: drop-shadow(0px 1px 2px rgba(0, 0, 0, 0.3));\n",
              "      fill: #FFFFFF;\n",
              "    }\n",
              "  </style>\n",
              "\n",
              "      <script>\n",
              "        const buttonEl =\n",
              "          document.querySelector('#df-c55220b7-708b-4224-aa03-0c2f0ab275a7 button.colab-df-convert');\n",
              "        buttonEl.style.display =\n",
              "          google.colab.kernel.accessAllowed ? 'block' : 'none';\n",
              "\n",
              "        async function convertToInteractive(key) {\n",
              "          const element = document.querySelector('#df-c55220b7-708b-4224-aa03-0c2f0ab275a7');\n",
              "          const dataTable =\n",
              "            await google.colab.kernel.invokeFunction('convertToInteractive',\n",
              "                                                     [key], {});\n",
              "          if (!dataTable) return;\n",
              "\n",
              "          const docLinkHtml = 'Like what you see? Visit the ' +\n",
              "            '<a target=\"_blank\" href=https://colab.research.google.com/notebooks/data_table.ipynb>data table notebook</a>'\n",
              "            + ' to learn more about interactive tables.';\n",
              "          element.innerHTML = '';\n",
              "          dataTable['output_type'] = 'display_data';\n",
              "          await google.colab.output.renderOutput(dataTable, element);\n",
              "          const docLink = document.createElement('div');\n",
              "          docLink.innerHTML = docLinkHtml;\n",
              "          element.appendChild(docLink);\n",
              "        }\n",
              "      </script>\n",
              "    </div>\n",
              "  </div>\n"
            ]
          },
          "metadata": {},
          "execution_count": 185
        }
      ]
    },
    {
      "cell_type": "code",
      "source": [
        "len(df)"
      ],
      "metadata": {
        "colab": {
          "base_uri": "https://localhost:8080/"
        },
        "id": "0IpOor09zsSx",
        "outputId": "099bafb3-0eaa-41a4-a5dc-ae2b42c9447b"
      },
      "execution_count": 186,
      "outputs": [
        {
          "output_type": "execute_result",
          "data": {
            "text/plain": [
              "21579"
            ]
          },
          "metadata": {},
          "execution_count": 186
        }
      ]
    },
    {
      "cell_type": "code",
      "source": [
        "# 레이블 개수 확인\n",
        "df[\"label\"].value_counts().to_frame().T\n"
      ],
      "metadata": {
        "colab": {
          "base_uri": "https://localhost:8080/",
          "height": 81
        },
        "id": "8s3BTZs6QNfH",
        "outputId": "dd7eb8d1-0857-43c7-b3f6-63dc65204b49"
      },
      "execution_count": 187,
      "outputs": [
        {
          "output_type": "execute_result",
          "data": {
            "text/plain": [
              "           0    1\n",
              "label  21401  178"
            ],
            "text/html": [
              "\n",
              "\n",
              "  <div id=\"df-71822932-63f4-45dc-9e41-4373a4decd92\">\n",
              "    <div class=\"colab-df-container\">\n",
              "      <div>\n",
              "<style scoped>\n",
              "    .dataframe tbody tr th:only-of-type {\n",
              "        vertical-align: middle;\n",
              "    }\n",
              "\n",
              "    .dataframe tbody tr th {\n",
              "        vertical-align: top;\n",
              "    }\n",
              "\n",
              "    .dataframe thead th {\n",
              "        text-align: right;\n",
              "    }\n",
              "</style>\n",
              "<table border=\"1\" class=\"dataframe\">\n",
              "  <thead>\n",
              "    <tr style=\"text-align: right;\">\n",
              "      <th></th>\n",
              "      <th>0</th>\n",
              "      <th>1</th>\n",
              "    </tr>\n",
              "  </thead>\n",
              "  <tbody>\n",
              "    <tr>\n",
              "      <th>label</th>\n",
              "      <td>21401</td>\n",
              "      <td>178</td>\n",
              "    </tr>\n",
              "  </tbody>\n",
              "</table>\n",
              "</div>\n",
              "      <button class=\"colab-df-convert\" onclick=\"convertToInteractive('df-71822932-63f4-45dc-9e41-4373a4decd92')\"\n",
              "              title=\"Convert this dataframe to an interactive table.\"\n",
              "              style=\"display:none;\">\n",
              "\n",
              "  <svg xmlns=\"http://www.w3.org/2000/svg\" height=\"24px\"viewBox=\"0 0 24 24\"\n",
              "       width=\"24px\">\n",
              "    <path d=\"M0 0h24v24H0V0z\" fill=\"none\"/>\n",
              "    <path d=\"M18.56 5.44l.94 2.06.94-2.06 2.06-.94-2.06-.94-.94-2.06-.94 2.06-2.06.94zm-11 1L8.5 8.5l.94-2.06 2.06-.94-2.06-.94L8.5 2.5l-.94 2.06-2.06.94zm10 10l.94 2.06.94-2.06 2.06-.94-2.06-.94-.94-2.06-.94 2.06-2.06.94z\"/><path d=\"M17.41 7.96l-1.37-1.37c-.4-.4-.92-.59-1.43-.59-.52 0-1.04.2-1.43.59L10.3 9.45l-7.72 7.72c-.78.78-.78 2.05 0 2.83L4 21.41c.39.39.9.59 1.41.59.51 0 1.02-.2 1.41-.59l7.78-7.78 2.81-2.81c.8-.78.8-2.07 0-2.86zM5.41 20L4 18.59l7.72-7.72 1.47 1.35L5.41 20z\"/>\n",
              "  </svg>\n",
              "      </button>\n",
              "\n",
              "\n",
              "\n",
              "    <div id=\"df-1575afb2-391e-4353-9fe8-9a7b9687d49e\">\n",
              "      <button class=\"colab-df-quickchart\" onclick=\"quickchart('df-1575afb2-391e-4353-9fe8-9a7b9687d49e')\"\n",
              "              title=\"Suggest charts.\"\n",
              "              style=\"display:none;\">\n",
              "\n",
              "<svg xmlns=\"http://www.w3.org/2000/svg\" height=\"24px\"viewBox=\"0 0 24 24\"\n",
              "     width=\"24px\">\n",
              "    <g>\n",
              "        <path d=\"M19 3H5c-1.1 0-2 .9-2 2v14c0 1.1.9 2 2 2h14c1.1 0 2-.9 2-2V5c0-1.1-.9-2-2-2zM9 17H7v-7h2v7zm4 0h-2V7h2v10zm4 0h-2v-4h2v4z\"/>\n",
              "    </g>\n",
              "</svg>\n",
              "      </button>\n",
              "    </div>\n",
              "\n",
              "<style>\n",
              "  .colab-df-quickchart {\n",
              "    background-color: #E8F0FE;\n",
              "    border: none;\n",
              "    border-radius: 50%;\n",
              "    cursor: pointer;\n",
              "    display: none;\n",
              "    fill: #1967D2;\n",
              "    height: 32px;\n",
              "    padding: 0 0 0 0;\n",
              "    width: 32px;\n",
              "  }\n",
              "\n",
              "  .colab-df-quickchart:hover {\n",
              "    background-color: #E2EBFA;\n",
              "    box-shadow: 0px 1px 2px rgba(60, 64, 67, 0.3), 0px 1px 3px 1px rgba(60, 64, 67, 0.15);\n",
              "    fill: #174EA6;\n",
              "  }\n",
              "\n",
              "  [theme=dark] .colab-df-quickchart {\n",
              "    background-color: #3B4455;\n",
              "    fill: #D2E3FC;\n",
              "  }\n",
              "\n",
              "  [theme=dark] .colab-df-quickchart:hover {\n",
              "    background-color: #434B5C;\n",
              "    box-shadow: 0px 1px 3px 1px rgba(0, 0, 0, 0.15);\n",
              "    filter: drop-shadow(0px 1px 2px rgba(0, 0, 0, 0.3));\n",
              "    fill: #FFFFFF;\n",
              "  }\n",
              "</style>\n",
              "\n",
              "    <script>\n",
              "      async function quickchart(key) {\n",
              "        const containerElement = document.querySelector('#' + key);\n",
              "        const charts = await google.colab.kernel.invokeFunction(\n",
              "            'suggestCharts', [key], {});\n",
              "      }\n",
              "    </script>\n",
              "\n",
              "      <script>\n",
              "\n",
              "function displayQuickchartButton(domScope) {\n",
              "  let quickchartButtonEl =\n",
              "    domScope.querySelector('#df-1575afb2-391e-4353-9fe8-9a7b9687d49e button.colab-df-quickchart');\n",
              "  quickchartButtonEl.style.display =\n",
              "    google.colab.kernel.accessAllowed ? 'block' : 'none';\n",
              "}\n",
              "\n",
              "        displayQuickchartButton(document);\n",
              "      </script>\n",
              "      <style>\n",
              "    .colab-df-container {\n",
              "      display:flex;\n",
              "      flex-wrap:wrap;\n",
              "      gap: 12px;\n",
              "    }\n",
              "\n",
              "    .colab-df-convert {\n",
              "      background-color: #E8F0FE;\n",
              "      border: none;\n",
              "      border-radius: 50%;\n",
              "      cursor: pointer;\n",
              "      display: none;\n",
              "      fill: #1967D2;\n",
              "      height: 32px;\n",
              "      padding: 0 0 0 0;\n",
              "      width: 32px;\n",
              "    }\n",
              "\n",
              "    .colab-df-convert:hover {\n",
              "      background-color: #E2EBFA;\n",
              "      box-shadow: 0px 1px 2px rgba(60, 64, 67, 0.3), 0px 1px 3px 1px rgba(60, 64, 67, 0.15);\n",
              "      fill: #174EA6;\n",
              "    }\n",
              "\n",
              "    [theme=dark] .colab-df-convert {\n",
              "      background-color: #3B4455;\n",
              "      fill: #D2E3FC;\n",
              "    }\n",
              "\n",
              "    [theme=dark] .colab-df-convert:hover {\n",
              "      background-color: #434B5C;\n",
              "      box-shadow: 0px 1px 3px 1px rgba(0, 0, 0, 0.15);\n",
              "      filter: drop-shadow(0px 1px 2px rgba(0, 0, 0, 0.3));\n",
              "      fill: #FFFFFF;\n",
              "    }\n",
              "  </style>\n",
              "\n",
              "      <script>\n",
              "        const buttonEl =\n",
              "          document.querySelector('#df-71822932-63f4-45dc-9e41-4373a4decd92 button.colab-df-convert');\n",
              "        buttonEl.style.display =\n",
              "          google.colab.kernel.accessAllowed ? 'block' : 'none';\n",
              "\n",
              "        async function convertToInteractive(key) {\n",
              "          const element = document.querySelector('#df-71822932-63f4-45dc-9e41-4373a4decd92');\n",
              "          const dataTable =\n",
              "            await google.colab.kernel.invokeFunction('convertToInteractive',\n",
              "                                                     [key], {});\n",
              "          if (!dataTable) return;\n",
              "\n",
              "          const docLinkHtml = 'Like what you see? Visit the ' +\n",
              "            '<a target=\"_blank\" href=https://colab.research.google.com/notebooks/data_table.ipynb>data table notebook</a>'\n",
              "            + ' to learn more about interactive tables.';\n",
              "          element.innerHTML = '';\n",
              "          dataTable['output_type'] = 'display_data';\n",
              "          await google.colab.output.renderOutput(dataTable, element);\n",
              "          const docLink = document.createElement('div');\n",
              "          docLink.innerHTML = docLinkHtml;\n",
              "          element.appendChild(docLink);\n",
              "        }\n",
              "      </script>\n",
              "    </div>\n",
              "  </div>\n"
            ]
          },
          "metadata": {},
          "execution_count": 187
        }
      ]
    },
    {
      "cell_type": "code",
      "source": [
        "# index 재설정\n",
        "df.reset_index(drop=True, inplace = True)"
      ],
      "metadata": {
        "id": "yTdBKrmZ0_2q"
      },
      "execution_count": 188,
      "outputs": []
    },
    {
      "cell_type": "code",
      "source": [
        "# 데이터 하나 확인\n",
        "for column in [\"text\", \"index\", \"label\"]:\n",
        "    print(f\"{column}: {df[column].iloc[0]}\\n\")"
      ],
      "metadata": {
        "id": "mJ6z-xhqQNhI",
        "colab": {
          "base_uri": "https://localhost:8080/"
        },
        "outputId": "41008221-7996-4521-d2c8-f5e57dde24f8"
      },
      "execution_count": 189,
      "outputs": [
        {
          "output_type": "stream",
          "name": "stdout",
          "text": [
            "text:  사기범: 저희 햇살론 특성상 네네네 채무가 3개월 이상 이제 쓰셔야 햇살론 진행이 가능하시거든요.네네 이제 삼 개월 치 안 되시는 이제 채무가 있으셔서 이 부분에 이제 문제가 생기신 겁니다.이제 어떻게 이제 이제 저축은행 같은 경우는요 이제 이쪽을 이제 저 이제 정리를 해주시고 저희 쪽 자금을 받아보시는 건 어떻겠어요 고객님 사기범: 어떻게 이제 고객님이 이쪽을 정리해 주신다 하시면 저희 쪽에서 바로 진행 가능하시고 이제 오늘 안으로 이제 바로 송금 가능하시니까 피해자: 일단은 그걸 해결을 해야지. 사기범: 네네네 근데 이제 저축은행이잖아요. 네 이쪽에서 이제 한 군데만 이제 정리를 하셔도 저희 쪽에서 자금이 나가거든요.제가 말씀드리는 거는 한 군데만 정리하셔도 이제 저축은행이 저희 쪽으로 이제 대출이 가능하시다고 말씀을 드리는 거예요.\n",
            "\n",
            "index: 2\n",
            "\n",
            "label: 1\n",
            "\n"
          ]
        }
      ]
    },
    {
      "cell_type": "code",
      "source": [
        "# 중복된 데이터를 삭제\n",
        "len_before = len(df)\n",
        "df = df.drop_duplicates(subset=\"text\")\n",
        "print(f\"삭제된 중복 이슈: {(len_before-len(df))/len_before:.2%}\")"
      ],
      "metadata": {
        "id": "eGU9glj-QNjg",
        "colab": {
          "base_uri": "https://localhost:8080/"
        },
        "outputId": "f2f76d6a-3b9f-43c1-dfb2-aa74212bc017"
      },
      "execution_count": 190,
      "outputs": [
        {
          "output_type": "stream",
          "name": "stdout",
          "text": [
            "삭제된 중복 이슈: 0.14%\n"
          ]
        }
      ]
    },
    {
      "cell_type": "code",
      "source": [
        "# 텍스트의 단어 개수를 살펴봄\n",
        "import numpy as np\n",
        "import matplotlib.pyplot as plt\n",
        "\n",
        "(df[\"text\"].str.split().apply(len)\n",
        " .hist(bins=np.linspace(0, 500, 50), grid=False, edgecolor=\"C0\"))\n",
        "plt.title(\"Words per issue\")\n",
        "plt.xlabel(\"Number of words\")\n",
        "plt.ylabel(\"Number of issues\")\n",
        "plt.show()"
      ],
      "metadata": {
        "id": "7pNXZUhBQNlj",
        "colab": {
          "base_uri": "https://localhost:8080/",
          "height": 472
        },
        "outputId": "d8f0ac9d-f7c0-4018-883c-37459d36e58e"
      },
      "execution_count": 191,
      "outputs": [
        {
          "output_type": "display_data",
          "data": {
            "text/plain": [
              "<Figure size 640x480 with 1 Axes>"
            ],
            "image/png": "[encoded data removed]"
          },
          "metadata": {}
        }
      ]
    },
    {
      "cell_type": "markdown",
      "source": [
        "### 훈련 세트 나누기"
      ],
      "metadata": {
        "id": "tlhQLPCGWenA"
      }
    },
    {
      "cell_type": "code",
      "source": [
        "# 훈련 세트 만들기\n",
        "# MultiLabelBinarizer 클래스 : 레이블 이름의 리스트를 받고 레이블에 해당하는 위치는 1, 나머지는 0인 벡터를 만듦\n",
        "# 본 과정에서는 label이 문자열이 아니고 multi label도 아니라 특별히 필요 없음\n",
        "# from sklearn.preprocessing import MultiLabelBinarizer\n",
        "# all_labels = [0, 1]\n",
        "# mlb = MultiLabelBinarizer()\n",
        "# mlb.fit([all_labels])\n",
        "# mlb.transform([[1], [0]])\n"
      ],
      "metadata": {
        "id": "gCTjR7YVQNnq",
        "colab": {
          "base_uri": "https://localhost:8080/"
        },
        "outputId": "6bda0659-fa83-4e9d-8df2-0e5c622deb2e"
      },
      "execution_count": null,
      "outputs": [
        {
          "output_type": "execute_result",
          "data": {
            "text/plain": [
              "array([[0, 1],\n",
              "       [1, 0]])"
            ]
          },
          "metadata": {},
          "execution_count": 135
        }
      ]
    },
    {
      "cell_type": "code",
      "source": [
        "!pip install scikit-multilearn"
      ],
      "metadata": {
        "id": "zO-7-wlmQNp_",
        "colab": {
          "base_uri": "https://localhost:8080/"
        },
        "outputId": "d9d3cd5c-a457-41b8-f97c-039a31c160e5"
      },
      "execution_count": 192,
      "outputs": [
        {
          "output_type": "stream",
          "name": "stdout",
          "text": [
            "Requirement already satisfied: scikit-multilearn in /usr/local/lib/python3.10/dist-packages (0.2.0)\n"
          ]
        }
      ]
    },
    {
      "cell_type": "code",
      "source": [
        "# 데이터 세트를 지도 학습 데이터셋과 비지도 학습 데이터셋으로 분할 iterative_train_test_split()\n",
        "# iterative_train_test_split(X, y, test_size) : \treturn = X_train, y_train, X_test, y_test\n",
        "# balanced_split() 함수로 지도 학습 데이터셋을 훈련 세트, 검증 세트, 테스트 세트로 균형있게 나눈다.\n",
        "from skmultilearn.model_selection import iterative_train_test_split\n",
        "from sklearn.model_selection import train_test_split\n",
        "\n",
        "# np.expand_dims(arr, axis) = arr: 차원을 확장할 배열, axis: 새로 추가될 차원의 위치 , axis=0 이면 0차원 앞에 1이 추가됨\n",
        "# ind : 임의로 데이터셋을 나누기 위한 인덱스를 만든다.\n",
        "# df.iloc[ind_train[:, 0]] = train data에서 1열 = text만 df에서 추출\n",
        "def balanced_split(df, test_size=0.5):\n",
        "  ind = np.expand_dims(np.arange(len(df)), axis=1) # format : (len(df),1)\n",
        "  # labels = mlb.transform(df[\"label\"])\n",
        "  # label을 .reshape(-1,1)로 형식을 맞춰줘야 함\n",
        "  # series라 .values를 넣어줌\n",
        "  labels = df[\"label\"].values.reshape(-1,1)\n",
        "  ind_train, _ , ind_test , _ = train_test_split(ind, labels, test_size)\n",
        "  return df.iloc[ind_train[:, 0]], df.iloc[ind_test[:,0]]\n"
      ],
      "metadata": {
        "id": "4X7utiUFQNsW"
      },
      "execution_count": 198,
      "outputs": []
    },
    {
      "cell_type": "markdown",
      "source": [
        "- 함수로 돌리면 안되서 내용물 빼서 돌림\n",
        "- train valid test split"
      ],
      "metadata": {
        "id": "aP_A9XzZKBgJ"
      }
    },
    {
      "cell_type": "code",
      "source": [
        "from sklearn.model_selection import train_test_split\n",
        "# reset_index : 설정 인덱스를 해제\n",
        "# df_unsup  : 고려하지 않는 레이블링 된 데이터  = 희소 레이블 데이터\n",
        "# df_clean = df[[\"text\", \"label\", \"index\"]].reset_index(drop=True).copy()\n",
        "# df_unsup = df_clean.loc[df_clean[\"split\"] == \"unlabeled\", [\"text\", \"labels\"]]\n",
        "# df_sup = df_clean.loc[df_clean[\"split\"] == \"labeled\", [\"text\", \"labels\"]]\n",
        "\n",
        "# np.random.seed(0)\n",
        "# train : valid : test = 8: 1: 1로 나눔\n",
        "\n",
        "# labels = mlb.transform(df[\"label\"])\n",
        "# label을 .reshape(-1,1)로 형식을 맞춰줘야 함\n",
        "# series라 .values를 넣어줌\n",
        "ind = np.expand_dims(np.arange(len(df_clean)), axis=1) # format : (len(df),1)\n",
        "labels = df_clean[\"label\"].values.reshape(-1,1)\n",
        "ind_train, _ , ind_test , _ = train_test_split(ind, labels, test_size=0.2)\n",
        "df_train  = df_clean.iloc[ind_train[:, 0]]\n",
        "df_tmp = df_clean.iloc[ind_test[:,0]]\n",
        "\n",
        "# df_train, df_tmp = balanced_split(df_clean, test_size= 0.2)\n",
        "# df_valid, df_test = balanced_split(df_tmp, test_size =0.5)"
      ],
      "metadata": {
        "id": "Woj5Fa4pQNub"
      },
      "execution_count": 208,
      "outputs": []
    },
    {
      "cell_type": "code",
      "source": [
        "ind = np.expand_dims(np.arange(len(df_tmp)), axis=1) # format : (len(df),1)\n",
        "labels = df_tmp[\"label\"].values.reshape(-1,1)\n",
        "ind_train, _ , ind_test , _ = train_test_split(ind, labels, test_size=0.5)\n",
        "df_valid  = df_tmp.iloc[ind_train[:, 0]]\n",
        "df_test = df_tmp.iloc[ind_test[:,0]]\n"
      ],
      "metadata": {
        "id": "KyqZNSrjJyUv"
      },
      "execution_count": 209,
      "outputs": []
    },
    {
      "cell_type": "markdown",
      "source": [
        "### DatasetDict 객체로 만듦"
      ],
      "metadata": {
        "id": "0mjTUisKWhix"
      }
    },
    {
      "cell_type": "code",
      "source": [
        "!pip install datasets"
      ],
      "metadata": {
        "colab": {
          "base_uri": "https://localhost:8080/"
        },
        "id": "BuwzN1-qKP1E",
        "outputId": "8a67e872-1d23-453a-9f50-0c338e709569"
      },
      "execution_count": 206,
      "outputs": [
        {
          "output_type": "stream",
          "name": "stdout",
          "text": [
            "Collecting datasets\n",
            "  Downloading datasets-2.14.2-py3-none-any.whl (518 kB)\n",
            "\u001b[2K     \u001b[90m━━━━━━━━━━━━━━━━━━━━━━━━━━━━━━━━━━━━━━━\u001b[0m \u001b[32m518.9/518.9 kB\u001b[0m \u001b[31m6.0 MB/s\u001b[0m eta \u001b[36m0:00:00\u001b[0m\n",
            "\u001b[?25hRequirement already satisfied: numpy>=1.17 in /usr/local/lib/python3.10/dist-packages (from datasets) (1.22.4)\n",
            "Requirement already satisfied: pyarrow>=8.0.0 in /usr/local/lib/python3.10/dist-packages (from datasets) (9.0.0)\n",
            "Collecting dill<0.3.8,>=0.3.0 (from datasets)\n",
            "  Downloading dill-0.3.7-py3-none-any.whl (115 kB)\n",
            "\u001b[2K     \u001b[90m━━━━━━━━━━━━━━━━━━━━━━━━━━━━━━━━━━━━━━━\u001b[0m \u001b[32m115.3/115.3 kB\u001b[0m \u001b[31m9.4 MB/s\u001b[0m eta \u001b[36m0:00:00\u001b[0m\n",
            "\u001b[?25hRequirement already satisfied: pandas in /usr/local/lib/python3.10/dist-packages (from datasets) (1.5.3)\n",
            "Requirement already satisfied: requests>=2.19.0 in /usr/local/lib/python3.10/dist-packages (from datasets) (2.27.1)\n",
            "Requirement already satisfied: tqdm>=4.62.1 in /usr/local/lib/python3.10/dist-packages (from datasets) (4.65.0)\n",
            "Collecting xxhash (from datasets)\n",
            "  Downloading xxhash-3.3.0-cp310-cp310-manylinux_2_17_x86_64.manylinux2014_x86_64.whl (194 kB)\n",
            "\u001b[2K     \u001b[90m━━━━━━━━━━━━━━━━━━━━━━━━━━━━━━━━━━━━━━━\u001b[0m \u001b[32m194.1/194.1 kB\u001b[0m \u001b[31m7.7 MB/s\u001b[0m eta \u001b[36m0:00:00\u001b[0m\n",
            "\u001b[?25hCollecting multiprocess (from datasets)\n",
            "  Downloading multiprocess-0.70.15-py310-none-any.whl (134 kB)\n",
            "\u001b[2K     \u001b[90m━━━━━━━━━━━━━━━━━━━━━━━━━━━━━━━━━━━━━━\u001b[0m \u001b[32m134.8/134.8 kB\u001b[0m \u001b[31m10.3 MB/s\u001b[0m eta \u001b[36m0:00:00\u001b[0m\n",
            "\u001b[?25hRequirement already satisfied: fsspec[http]>=2021.11.1 in /usr/local/lib/python3.10/dist-packages (from datasets) (2023.6.0)\n",
            "Requirement already satisfied: aiohttp in /usr/local/lib/python3.10/dist-packages (from datasets) (3.8.5)\n",
            "Collecting huggingface-hub<1.0.0,>=0.14.0 (from datasets)\n",
            "  Downloading huggingface_hub-0.16.4-py3-none-any.whl (268 kB)\n",
            "\u001b[2K     \u001b[90m━━━━━━━━━━━━━━━━━━━━━━━━━━━━━━━━━━━━━━━\u001b[0m \u001b[32m268.8/268.8 kB\u001b[0m \u001b[31m9.3 MB/s\u001b[0m eta \u001b[36m0:00:00\u001b[0m\n",
            "\u001b[?25hRequirement already satisfied: packaging in /usr/local/lib/python3.10/dist-packages (from datasets) (23.1)\n",
            "Requirement already satisfied: pyyaml>=5.1 in /usr/local/lib/python3.10/dist-packages (from datasets) (6.0.1)\n",
            "Requirement already satisfied: attrs>=17.3.0 in /usr/local/lib/python3.10/dist-packages (from aiohttp->datasets) (23.1.0)\n",
            "Requirement already satisfied: charset-normalizer<4.0,>=2.0 in /usr/local/lib/python3.10/dist-packages (from aiohttp->datasets) (2.0.12)\n",
            "Requirement already satisfied: multidict<7.0,>=4.5 in /usr/local/lib/python3.10/dist-packages (from aiohttp->datasets) (6.0.4)\n",
            "Requirement already satisfied: async-timeout<5.0,>=4.0.0a3 in /usr/local/lib/python3.10/dist-packages (from aiohttp->datasets) (4.0.2)\n",
            "Requirement already satisfied: yarl<2.0,>=1.0 in /usr/local/lib/python3.10/dist-packages (from aiohttp->datasets) (1.9.2)\n",
            "Requirement already satisfied: frozenlist>=1.1.1 in /usr/local/lib/python3.10/dist-packages (from aiohttp->datasets) (1.4.0)\n",
            "Requirement already satisfied: aiosignal>=1.1.2 in /usr/local/lib/python3.10/dist-packages (from aiohttp->datasets) (1.3.1)\n",
            "Requirement already satisfied: filelock in /usr/local/lib/python3.10/dist-packages (from huggingface-hub<1.0.0,>=0.14.0->datasets) (3.12.2)\n",
            "Requirement already satisfied: typing-extensions>=3.7.4.3 in /usr/local/lib/python3.10/dist-packages (from huggingface-hub<1.0.0,>=0.14.0->datasets) (4.7.1)\n",
            "Requirement already satisfied: urllib3<1.27,>=1.21.1 in /usr/local/lib/python3.10/dist-packages (from requests>=2.19.0->datasets) (1.26.16)\n",
            "Requirement already satisfied: certifi>=2017.4.17 in /usr/local/lib/python3.10/dist-packages (from requests>=2.19.0->datasets) (2023.7.22)\n",
            "Requirement already satisfied: idna<4,>=2.5 in /usr/local/lib/python3.10/dist-packages (from requests>=2.19.0->datasets) (3.4)\n",
            "Requirement already satisfied: python-dateutil>=2.8.1 in /usr/local/lib/python3.10/dist-packages (from pandas->datasets) (2.8.2)\n",
            "Requirement already satisfied: pytz>=2020.1 in /usr/local/lib/python3.10/dist-packages (from pandas->datasets) (2022.7.1)\n",
            "Requirement already satisfied: six>=1.5 in /usr/local/lib/python3.10/dist-packages (from python-dateutil>=2.8.1->pandas->datasets) (1.16.0)\n",
            "Installing collected packages: xxhash, dill, multiprocess, huggingface-hub, datasets\n",
            "Successfully installed datasets-2.14.2 dill-0.3.7 huggingface-hub-0.16.4 multiprocess-0.70.15 xxhash-3.3.0\n"
          ]
        }
      ]
    },
    {
      "cell_type": "code",
      "source": [
        "# DatasetDict 객체로 만듦\n",
        "from datasets import Dataset, DatasetDict\n",
        "# from_pandas() : 판다스 DataFrame에서 각 분할을 바로 Dataset으로 로드\n",
        "ds = DatasetDict({\n",
        "    \"train\" : Dataset.from_pandas(df_train.reset_index(drop=True)),\n",
        "    \"valid\" : Dataset.from_pandas(df_valid.reset_index(drop=True)),\n",
        "    \"test\" : Dataset.from_pandas(df_test.reset_index(drop=True)),\n",
        "})\n"
      ],
      "metadata": {
        "id": "DvY3HuKIQNxD"
      },
      "execution_count": 211,
      "outputs": []
    },
    {
      "cell_type": "code",
      "source": [
        "# # 훈련 슬라이스를 만들기\n",
        "# # 즉, train sample을 또 나눈다.\n",
        "# np.random.seed(0)\n",
        "# all_indices = np.expand_dims(list(range(len(ds[\"train\"]))), axis=1)\n",
        "# indices_pool = all_indices\n",
        "# labels = mlb.transform(ds[\"train\"][\"labels\"])\n",
        "# # labels = mlb.transform(ds[\"train\"][\"labels\"])\n",
        "# train_samples = [8, 16, 32, 64, 128]\n",
        "# train_slices, last_k = [], 0\n",
        "# # test_size = test의 비율 : (k-last_k)/len(labels) = 레이블 당 데이터 개수\n",
        "# for i, k in enumerate(train_samples):\n",
        "#     # 다음 슬라이스 크기를 채우는데 필요한 샘플을 분할합니다\n",
        "#     indices_pool, labels, new_slice, _ = iterative_train_test_split(\n",
        "#         indices_pool, labels, (k-last_k)/len(labels))\n",
        "#     last_k = k\n",
        "#     if i==0: train_slices.append(new_slice)\n",
        "#     else: train_slices.append(np.concatenate((train_slices[-1], new_slice)))\n",
        "\n",
        "# train_slices.append(all_indices), train_samples.append(len(ds[\"train\"]))\n",
        "\n",
        "# # np.squeeze :크기가 1인 차원을 없앤다.\n",
        "# train_slices = [np.squeeze(train_slice) for train_slice in train_slices]"
      ],
      "metadata": {
        "id": "9zQcvWnQVtDK"
      },
      "execution_count": null,
      "outputs": []
    },
    {
      "cell_type": "code",
      "source": [
        "# print(\"목표 분할 크기:\")\n",
        "# print(train_samples)\n",
        "# print(\"실제 분할 크기:\")\n",
        "# print([len(x) for x in train_slices])"
      ],
      "metadata": {
        "id": "aSMg_TCNVtDx"
      },
      "execution_count": null,
      "outputs": []
    },
    {
      "cell_type": "markdown",
      "source": [
        "### Data Augmentation"
      ],
      "metadata": {
        "id": "udAgJ40cV_iN"
      }
    },
    {
      "cell_type": "code",
      "source": [
        "!pip install transformers"
      ],
      "metadata": {
        "colab": {
          "base_uri": "https://localhost:8080/"
        },
        "id": "7RwnzBfEK4Wh",
        "outputId": "8f077c84-c1aa-4401-e308-d3e9ecab61df"
      },
      "execution_count": 212,
      "outputs": [
        {
          "output_type": "stream",
          "name": "stdout",
          "text": [
            "Collecting transformers\n",
            "  Downloading transformers-4.31.0-py3-none-any.whl (7.4 MB)\n",
            "\u001b[2K     \u001b[90m━━━━━━━━━━━━━━━━━━━━━━━━━━━━━━━━━━━━━━━━\u001b[0m \u001b[32m7.4/7.4 MB\u001b[0m \u001b[31m16.6 MB/s\u001b[0m eta \u001b[36m0:00:00\u001b[0m\n",
            "\u001b[?25hRequirement already satisfied: filelock in /usr/local/lib/python3.10/dist-packages (from transformers) (3.12.2)\n",
            "Requirement already satisfied: huggingface-hub<1.0,>=0.14.1 in /usr/local/lib/python3.10/dist-packages (from transformers) (0.16.4)\n",
            "Requirement already satisfied: numpy>=1.17 in /usr/local/lib/python3.10/dist-packages (from transformers) (1.22.4)\n",
            "Requirement already satisfied: packaging>=20.0 in /usr/local/lib/python3.10/dist-packages (from transformers) (23.1)\n",
            "Requirement already satisfied: pyyaml>=5.1 in /usr/local/lib/python3.10/dist-packages (from transformers) (6.0.1)\n",
            "Requirement already satisfied: regex!=2019.12.17 in /usr/local/lib/python3.10/dist-packages (from transformers) (2022.10.31)\n",
            "Requirement already satisfied: requests in /usr/local/lib/python3.10/dist-packages (from transformers) (2.27.1)\n",
            "Collecting tokenizers!=0.11.3,<0.14,>=0.11.1 (from transformers)\n",
            "  Downloading tokenizers-0.13.3-cp310-cp310-manylinux_2_17_x86_64.manylinux2014_x86_64.whl (7.8 MB)\n",
            "\u001b[2K     \u001b[90m━━━━━━━━━━━━━━━━━━━━━━━━━━━━━━━━━━━━━━━━\u001b[0m \u001b[32m7.8/7.8 MB\u001b[0m \u001b[31m39.8 MB/s\u001b[0m eta \u001b[36m0:00:00\u001b[0m\n",
            "\u001b[?25hCollecting safetensors>=0.3.1 (from transformers)\n",
            "  Downloading safetensors-0.3.1-cp310-cp310-manylinux_2_17_x86_64.manylinux2014_x86_64.whl (1.3 MB)\n",
            "\u001b[2K     \u001b[90m━━━━━━━━━━━━━━━━━━━━━━━━━━━━━━━━━━━━━━━━\u001b[0m \u001b[32m1.3/1.3 MB\u001b[0m \u001b[31m49.7 MB/s\u001b[0m eta \u001b[36m0:00:00\u001b[0m\n",
            "\u001b[?25hRequirement already satisfied: tqdm>=4.27 in /usr/local/lib/python3.10/dist-packages (from transformers) (4.65.0)\n",
            "Requirement already satisfied: fsspec in /usr/local/lib/python3.10/dist-packages (from huggingface-hub<1.0,>=0.14.1->transformers) (2023.6.0)\n",
            "Requirement already satisfied: typing-extensions>=3.7.4.3 in /usr/local/lib/python3.10/dist-packages (from huggingface-hub<1.0,>=0.14.1->transformers) (4.7.1)\n",
            "Requirement already satisfied: urllib3<1.27,>=1.21.1 in /usr/local/lib/python3.10/dist-packages (from requests->transformers) (1.26.16)\n",
            "Requirement already satisfied: certifi>=2017.4.17 in /usr/local/lib/python3.10/dist-packages (from requests->transformers) (2023.7.22)\n",
            "Requirement already satisfied: charset-normalizer~=2.0.0 in /usr/local/lib/python3.10/dist-packages (from requests->transformers) (2.0.12)\n",
            "Requirement already satisfied: idna<4,>=2.5 in /usr/local/lib/python3.10/dist-packages (from requests->transformers) (3.4)\n",
            "Installing collected packages: tokenizers, safetensors, transformers\n",
            "Successfully installed safetensors-0.3.1 tokenizers-0.13.3 transformers-4.31.0\n"
          ]
        }
      ]
    },
    {
      "cell_type": "code",
      "source": [],
      "metadata": {
        "id": "lDtat_N_MgjU"
      },
      "execution_count": null,
      "outputs": []
    },
    {
      "cell_type": "code",
      "source": [
        "# data augmentation 기법\n",
        "# 1. 역 번역 : 원본 언어 -> 하나 이상의 타깃 언어(기계번역을 이용) -> 원본 언어로 번역\n",
        "# 2. 토큰 섞기 : 텍스트에서 동의어 교체, 단어 추가, 교환, 삭제 등의 방법을 임의로 수행\n",
        "# 역번역 : M2M100 , 토큰 섞기 : NlpAug, TextAttack 같은 라이브러리로 구현 가능\n",
        "# 토큰섞기에서 동의어 변환을 이용\n",
        "from transformers import set_seed\n",
        "import nlpaug.augmenter.word as naw\n",
        "import nlpaug.augmenter.char as nac\n",
        "import nlpaug.augmenter.sentence as nas\n",
        "import nlpaug.flow as nafc\n",
        "import nltk\n",
        "nltk.download('averaged_perceptron_tagger')\n",
        "nltk.download('wordnet')\n",
        "nltk.download('omw-1.4')\n",
        "\n",
        "set_seed(3)\n",
        "text = \"Even if you defeat me Megatron, others will rise to defeat your tyranny\"\n",
        "augs = {}\n",
        "augs[\"synonym_replace\"] = naw.SynonymAug(aug_src='wordnet')\n",
        "augs[\"random_insert\"] = naw.ContextualWordEmbsAug(model_path=\"distilbert-base-uncased\",\n",
        "                                device=\"cpu\", action=\"insert\", aug_max=1)\n",
        "augs[\"random_swap\"] = naw.RandomWordAug(action=\"swap\")\n",
        "augs[\"random_delete\"] = naw.RandomWordAug()\n",
        "augs[\"bt_en_de\"] = naw.BackTranslationAug(\n",
        "    from_model_name='facebook/wmt19-en-de',\n",
        "    to_model_name='facebook/wmt19-de-en'\n",
        ")\n",
        "for k,v in augs.items():\n",
        "    print(f\"원본 텍스트: {text}\")\n",
        "    print(f\"{k}: {v.augment(text)}\")\n",
        "    print(\"\")"
      ],
      "metadata": {
        "id": "9VCHVLMsVtFP"
      },
      "execution_count": null,
      "outputs": []
    },
    {
      "cell_type": "code",
      "source": [
        "from transformers import set_seed\n",
        "import nlpaug.augmenter.word as naw\n",
        "\n",
        "set_seed(3)\n",
        "aug = naw.ContextualWordEmbsAug(model_path=\"distilbert-base-uncased\",\n",
        "                                device=\"cpu\", action=\"substitute\")\n",
        "\n",
        "text = \"Transformers are the most popular toys\"\n",
        "print(f\"원본 텍스트: {text}\")\n",
        "print(f\"증식된 텍스트: {aug.augment(text)}\")"
      ],
      "metadata": {
        "id": "XmGHXEIWVtHE"
      },
      "execution_count": null,
      "outputs": []
    },
    {
      "cell_type": "code",
      "source": [
        "def augment_text(batch, transformations_per_example=1):\n",
        "    text_aug, label_ids = [], []\n",
        "    for text, labels in zip(batch[\"text\"], batch[\"label_ids\"]):\n",
        "        text_aug += [text]\n",
        "        label_ids += [labels]\n",
        "        for _ in range(transformations_per_example):\n",
        "            text_aug += aug.augment(text)\n",
        "            label_ids += [labels]\n",
        "    return {\"text\": text_aug, \"label_ids\": label_ids}"
      ],
      "metadata": {
        "id": "KWDqAnoyVtJZ"
      },
      "execution_count": null,
      "outputs": []
    },
    {
      "cell_type": "code",
      "source": [
        "for train_slice in train_slices:\n",
        "    # 훈련 슬라이스와 테스트 데이터를 준비합니다\n",
        "    ds_train_sample = ds[\"train\"].select(train_slice)\n",
        "    # 증식 결과를 펼쳐서 레이블에 정렬합니다!\n",
        "    ds_train_aug = (ds_train_sample.map(\n",
        "        augment_text, batched=True, remove_columns=ds_train_sample.column_names)\n",
        "                    .shuffle(seed=42))\n",
        "    y_train = np.array(ds_train_aug[\"label_ids\"])\n",
        "    y_test = np.array(ds[\"test\"][\"label_ids\"])\n",
        "    # 간단한 CountVectorizer를 사용해 텍스트를 토큰 카운트로 인코딩합니다\n",
        "    count_vect = CountVectorizer()\n",
        "    X_train_counts = count_vect.fit_transform(ds_train_aug[\"text\"])\n",
        "    X_test_counts = count_vect.transform(ds[\"test\"][\"text\"])\n",
        "    # 모델을 만들고 훈련합니다!\n",
        "    classifier = BinaryRelevance(classifier=MultinomialNB())\n",
        "    classifier.fit(X_train_counts, y_train)\n",
        "    # 예측을 생성하고 평가합니다\n",
        "    y_pred_test = classifier.predict(X_test_counts)\n",
        "    clf_report = classification_report(\n",
        "        y_test, y_pred_test, target_names=mlb.classes_, zero_division=0,\n",
        "        output_dict=True)\n",
        "    # 평가 결과를 저장합니다\n",
        "    macro_scores[\"Naive Bayes + Aug\"].append(clf_report[\"macro avg\"][\"f1-score\"])\n",
        "    micro_scores[\"Naive Bayes + Aug\"].append(clf_report[\"micro avg\"][\"f1-score\"])"
      ],
      "metadata": {
        "id": "xeAyeKPAVtLR"
      },
      "execution_count": null,
      "outputs": []
    },
    {
      "cell_type": "markdown",
      "source": [
        "### 시각화하기"
      ],
      "metadata": {
        "id": "mCmemLFiV9Uk"
      }
    },
    {
      "cell_type": "code",
      "source": [
        "import matplotlib.pyplot as plt\n",
        "\n",
        "def plot_metrics(micro_scores, macro_scores, sample_sizes, current_model):\n",
        "    fig, (ax0, ax1) = plt.subplots(1, 2, figsize=(10, 4), sharey=True)\n",
        "\n",
        "    for run in micro_scores.keys():\n",
        "        if run == current_model:\n",
        "            ax0.plot(sample_sizes, micro_scores[run], label=run, linewidth=2)\n",
        "            ax1.plot(sample_sizes, macro_scores[run], label=run, linewidth=2)\n",
        "        else:\n",
        "            ax0.plot(sample_sizes, micro_scores[run], label=run,\n",
        "                     linestyle=\"dashed\")\n",
        "            ax1.plot(sample_sizes, macro_scores[run], label=run,\n",
        "                     linestyle=\"dashed\")\n",
        "\n",
        "    ax0.set_title(\"Micro F1 scores\")\n",
        "    ax1.set_title(\"Macro F1 scores\")\n",
        "    ax0.set_ylabel(\"Test set F1 score\")\n",
        "    ax0.legend(loc=\"lower right\")\n",
        "    for ax in [ax0, ax1]:\n",
        "        ax.set_xlabel(\"Number of training samples\")\n",
        "        ax.set_xscale(\"log\")\n",
        "        ax.set_xticks(sample_sizes)\n",
        "        ax.set_xticklabels(sample_sizes)\n",
        "        ax.minorticks_off()\n",
        "    plt.tight_layout()\n",
        "    plt.show()"
      ],
      "metadata": {
        "id": "BTp_kI59VtNl"
      },
      "execution_count": null,
      "outputs": []
    },
    {
      "cell_type": "code",
      "source": [
        "plot_metrics(micro_scores, macro_scores, train_samples, \"Naive Bayes + Aug\")\n"
      ],
      "metadata": {
        "id": "Pqn2Bu8aVtPY"
      },
      "execution_count": null,
      "outputs": []
    },
    {
      "cell_type": "code",
      "source": [],
      "metadata": {
        "id": "jsRbLDtkVtRN"
      },
      "execution_count": null,
      "outputs": []
    },
    {
      "cell_type": "code",
      "source": [],
      "metadata": {
        "id": "S0kv1i8UVtTD"
      },
      "execution_count": null,
      "outputs": []
    },
    {
      "cell_type": "code",
      "source": [],
      "metadata": {
        "id": "3YaacFwZVtVI"
      },
      "execution_count": null,
      "outputs": []
    },
    {
      "cell_type": "code",
      "source": [],
      "metadata": {
        "id": "PbQYAtRXVtW_"
      },
      "execution_count": null,
      "outputs": []
    },
    {
      "cell_type": "code",
      "source": [],
      "metadata": {
        "id": "cubGJFkrVtZB"
      },
      "execution_count": null,
      "outputs": []
    },
    {
      "cell_type": "code",
      "source": [],
      "metadata": {
        "id": "DX8vbeaaVtcb"
      },
      "execution_count": null,
      "outputs": []
    }
  ]
}